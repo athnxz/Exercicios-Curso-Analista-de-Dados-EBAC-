{
  "nbformat": 4,
  "nbformat_minor": 0,
  "metadata": {
    "colab": {
      "provenance": [],
      "collapsed_sections": [
        "JG1HL69-j0lH",
        "s_Dj-BgThLg5",
        "jeEzLmuRhDQy",
        "PoTeRwlihDQ0",
        "QpMlxqRyhDQ1",
        "ov7Fg-mWhDQ1",
        "DvHPNAoPgdiG",
        "3SMp5GwjglJm",
        "e3ieQfXTgqd3",
        "L0pKWNr5fm9z",
        "DMhCpOU_gupo",
        "l3h0WP2Eg2ht",
        "rWG4Vk6XaWtf",
        "wkibgd8rB8y3",
        "IjPaJtnYE0MI",
        "2lpj1rszc--m",
        "HnWg_mhLd5gC",
        "RhqmXiHQo-is",
        "SvT9xrajLL7J",
        "91eSyA2cLLqv"
      ]
    },
    "kernelspec": {
      "name": "python3",
      "display_name": "Python 3"
    }
  },
  "cells": [
    {
      "cell_type": "markdown",
      "metadata": {
        "id": "KJqp9AANOCtf"
      },
      "source": [
        "<img src=\"https://raw.githubusercontent.com/andre-marcos-perez/ebac-course-utils/main/media/logo/newebac_logo_black_half.png\" alt=\"ebac-logo\">\n",
        "\n",
        "---\n",
        "\n",
        "# **Módulo** | Big Data I - Armazenamento\n",
        "Caderno de **Exercícios**<br>\n",
        "Professor [André Perez](https://www.linkedin.com/in/andremarcosperez/)\n",
        "\n",
        "---"
      ]
    },
    {
      "cell_type": "markdown",
      "metadata": {
        "id": "d9jDtUbDOE1-"
      },
      "source": [
        "# **Tópicos**\n",
        "\n",
        "<ol type=\"1\">\n",
        "  <li>Introdução;</li>\n",
        "  <li>Apache Spark;</li>\n",
        "  <li>Data Wrangling com Spark.</li>\n",
        "</ol>"
      ]
    },
    {
      "cell_type": "markdown",
      "metadata": {
        "id": "SmoHgt-lwkpD"
      },
      "source": [
        "---"
      ]
    },
    {
      "cell_type": "markdown",
      "metadata": {
        "id": "GABI6OW8OfQ2"
      },
      "source": [
        "# **Exercícios**"
      ]
    },
    {
      "cell_type": "markdown",
      "metadata": {
        "id": "ne7Ay0HKaGSv"
      },
      "source": [
        "## 1\\. Apache Spark"
      ]
    },
    {
      "cell_type": "markdown",
      "metadata": {
        "id": "OQxOVktrzG9I"
      },
      "source": [
        "Replique as atividades do item 2.1 e 2.2 para instalar e configurar um cluster Apache Spark na máquina virtual do Google Colab."
      ]
    },
    {
      "cell_type": "markdown",
      "source": [
        "##Instal"
      ],
      "metadata": {
        "id": "ScdYNkJaaBcE"
      }
    },
    {
      "cell_type": "code",
      "source": [
        "#Spark instal\n",
        "%%capture\n",
        "!wget -q https://archive.apache.org/dist/spark/spark-3.0.0/spark-3.0.0-bin-hadoop2.7.tgz\n",
        "!tar xf spark-3.0.0-bin-hadoop2.7.tgz && rm spark-3.0.0-bin-hadoop2.7.tgz"
      ],
      "metadata": {
        "id": "uz1f_a6fZJ7E"
      },
      "execution_count": null,
      "outputs": []
    },
    {
      "cell_type": "code",
      "source": [
        "#Java instal\n",
        "%%capture\n",
        "!apt-get remove openjdk*\n",
        "!apt-get update --fix-missing\n",
        "!apt-get install openjdk-8-jdk-headless -qq > /dev/null"
      ],
      "metadata": {
        "id": "lIwNlEPcZLCy"
      },
      "execution_count": null,
      "outputs": []
    },
    {
      "cell_type": "code",
      "source": [
        "!pip install -q pyspark==3.0.0"
      ],
      "metadata": {
        "colab": {
          "base_uri": "https://localhost:8080/"
        },
        "id": "V0JzClUOZhND",
        "outputId": "977cd0a3-e70f-4ed4-a34d-744ad9d05d3f"
      },
      "execution_count": null,
      "outputs": [
        {
          "output_type": "stream",
          "name": "stdout",
          "text": [
            "\u001b[2K     \u001b[90m━━━━━━━━━━━━━━━━━━━━━━━━━━━━━━━━━━━━━━━━\u001b[0m \u001b[32m204.7/204.7 MB\u001b[0m \u001b[31m2.7 MB/s\u001b[0m eta \u001b[36m0:00:00\u001b[0m\n",
            "\u001b[?25h  Preparing metadata (setup.py) ... \u001b[?25l\u001b[?25hdone\n",
            "\u001b[2K     \u001b[90m━━━━━━━━━━━━━━━━━━━━━━━━━━━━━━━━━━━━━━━━\u001b[0m \u001b[32m198.6/198.6 kB\u001b[0m \u001b[31m18.3 MB/s\u001b[0m eta \u001b[36m0:00:00\u001b[0m\n",
            "\u001b[?25h  Building wheel for pyspark (setup.py) ... \u001b[?25l\u001b[?25hdone\n"
          ]
        }
      ]
    },
    {
      "cell_type": "markdown",
      "source": [
        "##Configuração"
      ],
      "metadata": {
        "id": "lE49-AclZ-PQ"
      }
    },
    {
      "cell_type": "code",
      "source": [
        "import os\n",
        "\n",
        "os.environ[\"JAVA_HOME\"] = \"/usr/lib/jvm/java-8-openjdk-amd64\"\n",
        "os.environ[\"SPARK_HOME\"] = \"/content/spark-3.0.0-bin-hadoop2.7\""
      ],
      "metadata": {
        "id": "40liIFv-Zjfh"
      },
      "execution_count": null,
      "outputs": []
    },
    {
      "cell_type": "code",
      "source": [
        "!pip install -q findspark==1.4.2"
      ],
      "metadata": {
        "id": "e1LcSAXKaG1G"
      },
      "execution_count": null,
      "outputs": []
    },
    {
      "cell_type": "code",
      "source": [
        "import findspark\n",
        "\n",
        "findspark.init()"
      ],
      "metadata": {
        "id": "yoRUqCQNaJ5S"
      },
      "execution_count": null,
      "outputs": []
    },
    {
      "cell_type": "code",
      "source": [
        "from pyspark.sql import SparkSession\n",
        "\n",
        "spark = SparkSession.builder.master(\"local[*]\").appName(\"pyspark-notebook\").getOrCreate()"
      ],
      "metadata": {
        "id": "wMdeBJHYaNek"
      },
      "execution_count": null,
      "outputs": []
    },
    {
      "cell_type": "markdown",
      "metadata": {
        "id": "EvJTE2FpaGeU"
      },
      "source": [
        "## 2\\. Data Wrangling"
      ]
    },
    {
      "cell_type": "markdown",
      "metadata": {
        "id": "ISYXZbomlb1x"
      },
      "source": [
        "A base de dados presente neste [link](https://www.kaggle.com/datasets/bank-of-england/a-millennium-of-macroeconomic-data) contem dados macroeconômicos sobre o Reino Unido desde o século 13."
      ]
    },
    {
      "cell_type": "markdown",
      "source": [
        "**2.1\\. Data**"
      ],
      "metadata": {
        "id": "gw9qU6sLipWv"
      }
    },
    {
      "cell_type": "markdown",
      "source": [
        "Faça o download dos dados utilizando a máquina virutal do Google Colab com o código abaixo."
      ],
      "metadata": {
        "id": "1hnomN0NmgFY"
      }
    },
    {
      "cell_type": "code",
      "source": [
        "!wget -q \"https://raw.githubusercontent.com/cluster-apps-on-docker/spark-standalone-cluster-on-docker/master/build/workspace/data/uk-macroeconomic-data.csv\" -O \"uk-macroeconomic-data.csv\""
      ],
      "metadata": {
        "id": "D7kgFvnoklGX"
      },
      "execution_count": null,
      "outputs": []
    },
    {
      "cell_type": "code",
      "source": [
        "data = spark.read.csv(path=\"uk-macroeconomic-data.csv\", sep=\",\", header=True)"
      ],
      "metadata": {
        "id": "borW07ChaqX3"
      },
      "execution_count": null,
      "outputs": []
    },
    {
      "cell_type": "code",
      "source": [
        "data.show()"
      ],
      "metadata": {
        "colab": {
          "base_uri": "https://localhost:8080/"
        },
        "id": "ir78vyl4ayIL",
        "outputId": "7eb0d736-6e86-4580-a428-30869c665229"
      },
      "execution_count": null,
      "outputs": [
        {
          "output_type": "stream",
          "name": "stdout",
          "text": [
            "+-----------+------------------------------------+-----------------------------------+-------------------------------------------------------------------------------------------+-----------------------------------------------------------------------------------------+------------------------------------------------------------------------------+----------------------------------------------------------------------------------------+-------------------------------------------------------------------------------------+-----------------------------------------------------------------------------------+--------------------+--------------------+--------------------------+-------------------------------------------------+--------------------+--------------------+---------------------------------------+-------------------------------+---------------------------------+------------------+--------------------+----------+-----------------+---------------------------+-------------------------------+----------+--------------------+---------------------+-------------------------------------------+-----------------------------+-------------+-------------+--------------+------------+--------------------+--------------------+------------------------+----------------------+------------------------------+------------+--------------------+------------------------------------------+------------------------------------------+--------------------+-----------------------------------+---------------------+--------------------+--------------------+----------------------+--------------------+--------------------+--------------------+-------------+--------------+-----------------------------+-------------------------------+-----------------------------------------------+-----------------------------+-------------+-------------+-------------+---------------------------------------+-----------------------------------------+----------------------------+------------------------------+-----------------------------------------+-------------------------------------------+---------------------+-----------------------+-----------------------+-----------------------------+-------------------------------+-------------+--------------------+----------------+--------------------+----------------------------------------------------------------------+------------------------------------------------------------------------+\n",
            "|Description|Real GDP of England at market prices|Real GDP of England at factor cost |Real UK GDP at market prices, geographically-consistent estimate based on post-1922 borders|Real UK GDP at factor cost, geographically-consistent estimate based on post-1922 borders|Index of real UK GDP at factor cost - based on changing political boundaries, |Composite estimate of English and (geographically-consistent) UK real GDP at factor cost|HP-filter of log of real composite estimate of English and UK real GDP at factor cost|Real UK gross disposable national income at market prices, constant border estimate|    Real consumption|     Real investment|Stockbuilding contribution|Real government consumption of goods and services|      Export volumes|      Import volumes|Nominal GDP of England at market prices|Nominal UK GDP at market prices|Nominal UK GDP at market prices.1|Population (GB+NI)|Population (England)|Employment|Unemployment rate|Average weekly hours worked|Capital Services, whole economy|TFP growth| Labour productivity|Labour productivity.1|Labour share, whole economy excluding rents|GDP deflator at market prices|Export prices|Import prices|Terms of Trade|$ Oil prices|   Earnings per head|Consumer price index|Consumer price inflation|Real consumption wages|Wholesale/producer price index|   Bank Rate|         Bank Rate.1|10 year/medium-term government bond yields|Consols / long-term government bond yields|      Mortgage rates|Corporate borrowing rate from banks|Corporate bond yields|        Share prices|   $/£ exchange rate|Real $/£ exchange rate|         Nominal ERI|            Real ERI|   House price index|      Credit |Secured credit|Bank of England Balance sheet|Bank of England Balance sheet.1|Coin in circulation outside the Bank of England|Notes and coin in circulation|Monetary base|           M1| Broad Money |Public sector Total Managed Expenditure|Public sector Total Managed Expenditure.1|Public Sector Total Receipts|Public Sector Total Receipts.1|Public Sector Net Lending(+)/Borrowing(-)|Public Sector Net Lending(+)/Borrowing(-).1|UK Public sector debt|UK Public sector debt.1|UK Public sector debt.2|Central Government Gross Debt|Central Government Gross Debt.1|Trade deficit|     Trade deficit.1|Current account |  Current account .1|Current account deficit including estimated non-monetary bullion flows|Current account deficit including estimated non-monetary bullion flows.1|\n",
            "+-----------+------------------------------------+-----------------------------------+-------------------------------------------------------------------------------------------+-----------------------------------------------------------------------------------------+------------------------------------------------------------------------------+----------------------------------------------------------------------------------------+-------------------------------------------------------------------------------------+-----------------------------------------------------------------------------------+--------------------+--------------------+--------------------------+-------------------------------------------------+--------------------+--------------------+---------------------------------------+-------------------------------+---------------------------------+------------------+--------------------+----------+-----------------+---------------------------+-------------------------------+----------+--------------------+---------------------+-------------------------------------------+-----------------------------+-------------+-------------+--------------+------------+--------------------+--------------------+------------------------+----------------------+------------------------------+------------+--------------------+------------------------------------------+------------------------------------------+--------------------+-----------------------------------+---------------------+--------------------+--------------------+----------------------+--------------------+--------------------+--------------------+-------------+--------------+-----------------------------+-------------------------------+-----------------------------------------------+-----------------------------+-------------+-------------+-------------+---------------------------------------+-----------------------------------------+----------------------------+------------------------------+-----------------------------------------+-------------------------------------------+---------------------+-----------------------+-----------------------+-----------------------------+-------------------------------+-------------+--------------------+----------------+--------------------+----------------------------------------------------------------------+------------------------------------------------------------------------+\n",
            "|      Units|                £mn, Chained Volu...|               £mn, Chained Volu...|                                                                       £mn, Chained Volu...|                                                                     £mn, Chained Volu...|                                                          GB before 1801, G...|                                                                                2013=100|                                                                 approx. % differe...|                                                               £mn, Chained Volu...|£mn, Chained Volu...|£mn, Chained Volu...|      pp contribution t...|                             £mn, Chained Volu...|£mn, Chained Volu...|£mn, Chained Volu...|                                    £mn|                            £mn|                              £mn|              000s|                000s|      000s|                %|                      hours|               £mn, 2013 prices|         %|Real GDP per head...| Real GDP per hour...|                       share of GDP excl...|                     2013=100|     2013=100|     2013=100|      2013=100|$ per barrel|Average weekly ea...|            2015=100|                       %|              1900=100|                      2010=100|% end period|%, calendar year ...|                      %, calendar year ...|                      %, calendar year ...|%, calendar year ...|               %, calendar year ...| %, calendar year ...|April 1962=100, Y...|Calendar year ave...|  Calendar year ave...|Calendar year ave...|Calendar year ave...|Calendar year ave...|Year end, £mn| Year end, £mn|             % of nominal GDP|               % of nominal GDP|                                  Year end, £mn|                Year end, £mn|Year end, £mn|Year end, £mn|Year end, £mn|                   Calendar year tot...|                     as a % of nominal...|        Calendar year tot...|          as a % of nominal...|                     Calendar year tot...|                       as a % of nominal...| Calendar Year end...|   as a % of nominal...|   as a % of nominal...|         Financial year en...|           Financial year en...|          £mn|as a % of nominal...|             £mn|as a % of nominal...|                                                                   £mn|                                                    as a % of nominal...|\n",
            "|       1209|                                null|                               null|                                                                                       null|                                                                                     null|                                                                          null|                                                                                    null|                                                                                 null|                                                                               null|                null|                null|                      null|                                             null|                null|                null|                                   null|                           null|                             null|              null|                3626|      null|             null|                       null|                           null|      null|                null|                 null|                                       null|                         null|         null|         null|          null|        null|               0.034|                0.08|                    null|                 51.79|                          null|        null|                null|                                      null|                                      null|                null|                               null|                 null|                null|                null|                  null|                null|                null|                null|         null|          null|                         null|                           null|                                           null|                         null|         null|         null|         null|                                   null|                                     null|                        null|                          null|                                     null|                                       null|                 null|                   null|                   null|                         null|                           null|         null|                null|            null|                null|                                                                  null|                                                                    null|\n",
            "|       1210|                                null|                               null|                                                                                       null|                                                                                     null|                                                                          null|                                                                                    null|                                                                                 null|                                                                               null|                null|                null|                      null|                                             null|                null|                null|                                   null|                           null|                             null|              null|                3656|      null|             null|                       null|                           null|      null|                null|                 null|                                       null|                         null|         null|         null|          null|        null|               0.030|                0.08|                    2.58|                 44.65|                          null|        null|                null|                                      null|                                      null|                null|                               null|                 null|                null|                null|                  null|                null|                null|                null|         null|          null|                         null|                           null|                                           null|                         null|         null|         null|         null|                                   null|                                     null|                        null|                          null|                                     null|                                       null|                 null|                   null|                   null|                         null|                           null|         null|                null|            null|                null|                                                                  null|                                                                    null|\n",
            "|       1211|                                null|                               null|                                                                                       null|                                                                                     null|                                                                          null|                                                                                    null|                                                                                 null|                                                                               null|                null|                null|                      null|                                             null|                null|                null|                                   null|                           null|                             null|              null|                3686|      null|             null|                       null|                           null|      null|                null|                 null|                                       null|                         null|         null|         null|          null|        null|               0.026|                0.09|                   12.22|                 34.86|                          null|        null|                null|                                      null|                                      null|                null|                               null|                 null|                null|                null|                  null|                null|                null|                null|         null|          null|                         null|                           null|                                           null|                         null|         null|         null|         null|                                   null|                                     null|                        null|                          null|                                     null|                                       null|                 null|                   null|                   null|                         null|                           null|         null|                null|            null|                null|                                                                  null|                                                                    null|\n",
            "|       1212|                                null|                               null|                                                                                       null|                                                                                     null|                                                                          null|                                                                                    null|                                                                                 null|                                                                               null|                null|                null|                      null|                                             null|                null|                null|                                   null|                           null|                             null|              null|                3717|      null|             null|                       null|                           null|      null|                null|                 null|                                       null|                         null|         null|         null|          null|        null|               0.033|                0.08|                  -12.32|                 49.35|                          null|        null|                null|                                      null|                                      null|                null|                               null|                 null|                null|                null|                  null|                null|                null|                null|         null|          null|                         null|                           null|                                           null|                         null|         null|         null|         null|                                   null|                                     null|                        null|                          null|                                     null|                                       null|                 null|                   null|                   null|                         null|                           null|         null|                null|            null|                null|                                                                  null|                                                                    null|\n",
            "|       1213|                                null|                               null|                                                                                       null|                                                                                     null|                                                                          null|                                                                                    null|                                                                                 null|                                                                               null|                null|                null|                      null|                                             null|                null|                null|                                   null|                           null|                             null|              null|                3747|      null|             null|                       null|                           null|      null|                null|                 null|                                       null|                         null|         null|         null|          null|        null|               0.037|                0.08|                   -3.37|                 57.28|                          null|        null|                null|                                      null|                                      null|                null|                               null|                 null|                null|                null|                  null|                null|                null|                null|         null|          null|                         null|                           null|                                           null|                         null|         null|         null|         null|                                   null|                                     null|                        null|                          null|                                     null|                                       null|                 null|                   null|                   null|                         null|                           null|         null|                null|            null|                null|                                                                  null|                                                                    null|\n",
            "|       1214|                                null|                               null|                                                                                       null|                                                                                     null|                                                                          null|                                                                                    null|                                                                                 null|                                                                               null|                null|                null|                      null|                                             null|                null|                null|                                   null|                           null|                             null|              null|                3778|      null|             null|                       null|                           null|      null|                null|                 null|                                       null|                         null|         null|         null|          null|        null|               0.041|                0.08|                   -3.37|                 66.49|                          null|        null|                null|                                      null|                                      null|                null|                               null|                 null|                null|                null|                  null|                null|                null|                null|         null|          null|                         null|                           null|                                           null|                         null|         null|         null|         null|                                   null|                                     null|                        null|                          null|                                     null|                                       null|                 null|                   null|                   null|                         null|                           null|         null|                null|            null|                null|                                                                  null|                                                                    null|\n",
            "|       1215|                                null|                               null|                                                                                       null|                                                                                     null|                                                                          null|                                                                                    null|                                                                                 null|                                                                               null|                null|                null|                      null|                                             null|                null|                null|                                   null|                           null|                             null|              null|                3810|      null|             null|                       null|                           null|      null|                null|                 null|                                       null|                         null|         null|         null|          null|        null|               0.038|                0.08|                    6.34|                 57.33|                          null|        null|                null|                                      null|                                      null|                null|                               null|                 null|                null|                null|                  null|                null|                null|                null|         null|          null|                         null|                           null|                                           null|                         null|         null|         null|         null|                                   null|                                     null|                        null|                          null|                                     null|                                       null|                 null|                   null|                   null|                         null|                           null|         null|                null|            null|                null|                                                                  null|                                                                    null|\n",
            "|       1216|                                null|                               null|                                                                                       null|                                                                                     null|                                                                          null|                                                                                    null|                                                                                 null|                                                                               null|                null|                null|                      null|                                             null|                null|                null|                                   null|                           null|                             null|              null|                3841|      null|             null|                       null|                           null|      null|                null|                 null|                                       null|                         null|         null|         null|          null|        null|               0.035|                0.09|                    6.34|                 49.44|                          null|        null|                null|                                      null|                                      null|                null|                               null|                 null|                null|                null|                  null|                null|                null|                null|         null|          null|                         null|                           null|                                           null|                         null|         null|         null|         null|                                   null|                                     null|                        null|                          null|                                     null|                                       null|                 null|                   null|                   null|                         null|                           null|         null|                null|            null|                null|                                                                  null|                                                                    null|\n",
            "|       1217|                                null|                               null|                                                                                       null|                                                                                     null|                                                                          null|                                                                                    null|                                                                                 null|                                                                               null|                null|                null|                      null|                                             null|                null|                null|                                   null|                           null|                             null|              null|                3873|      null|             null|                       null|                           null|      null|                null|                 null|                                       null|                         null|         null|         null|          null|        null|               0.034|                0.10|                   15.78|                 41.18|                          null|        null|                null|                                      null|                                      null|                null|                               null|                 null|                null|                null|                  null|                null|                null|                null|         null|          null|                         null|                           null|                                           null|                         null|         null|         null|         null|                                   null|                                     null|                        null|                          null|                                     null|                                       null|                 null|                   null|                   null|                         null|                           null|         null|                null|            null|                null|                                                                  null|                                                                    null|\n",
            "|       1218|                                null|                               null|                                                                                       null|                                                                                     null|                                                                          null|                                                                                    null|                                                                                 null|                                                                               null|                null|                null|                      null|                                             null|                null|                null|                                   null|                           null|                             null|              null|                3905|      null|             null|                       null|                           null|      null|                null|                 null|                                       null|                         null|         null|         null|          null|        null|               0.029|                0.12|                   16.62|                 30.69|                          null|        null|                null|                                      null|                                      null|                null|                               null|                 null|                null|                null|                  null|                null|                null|                null|         null|          null|                         null|                           null|                                           null|                         null|         null|         null|         null|                                   null|                                     null|                        null|                          null|                                     null|                                       null|                 null|                   null|                   null|                         null|                           null|         null|                null|            null|                null|                                                                  null|                                                                    null|\n",
            "|       1219|                                null|                               null|                                                                                       null|                                                                                     null|                                                                          null|                                                                                    null|                                                                                 null|                                                                               null|                null|                null|                      null|                                             null|                null|                null|                                   null|                           null|                             null|              null|                3937|      null|             null|                       null|                           null|      null|                null|                 null|                                       null|                         null|         null|         null|          null|        null|               0.036|                0.11|                   -3.13|                 39.33|                          null|        null|                null|                                      null|                                      null|                null|                               null|                 null|                null|                null|                  null|                null|                null|                null|         null|          null|                         null|                           null|                                           null|                         null|         null|         null|         null|                                   null|                                     null|                        null|                          null|                                     null|                                       null|                 null|                   null|                   null|                         null|                           null|         null|                null|            null|                null|                                                                  null|                                                                    null|\n",
            "|       1220|                                null|                               null|                                                                                       null|                                                                                     null|                                                                          null|                                                                                    null|                                                                                 null|                                                                               null|                null|                null|                      null|                                             null|                null|                null|                                   null|                           null|                             null|              null|                3970|      null|             null|                       null|                           null|      null|                null|                 null|                                       null|                         null|         null|         null|          null|        null|               0.029|                0.10|                  -12.67|                 36.28|                          null|        null|                null|                                      null|                                      null|                null|                               null|                 null|                null|                null|                  null|                null|                null|                null|         null|          null|                         null|                           null|                                           null|                         null|         null|         null|         null|                                   null|                                     null|                        null|                          null|                                     null|                                       null|                 null|                   null|                   null|                         null|                           null|         null|                null|            null|                null|                                                                  null|                                                                    null|\n",
            "|       1221|                                null|                               null|                                                                                       null|                                                                                     null|                                                                          null|                                                                                    null|                                                                                 null|                                                                               null|                null|                null|                      null|                                             null|                null|                null|                                   null|                           null|                             null|              null|                3978|      null|             null|                       null|                           null|      null|                null|                 null|                                       null|                         null|         null|         null|          null|        null|               0.030|                0.11|                   11.96|                 33.73|                          null|        null|                null|                                      null|                                      null|                null|                               null|                 null|                null|                null|                  null|                null|                null|                null|         null|          null|                         null|                           null|                                           null|                         null|         null|         null|         null|                                   null|                                     null|                        null|                          null|                                     null|                                       null|                 null|                   null|                   null|                         null|                           null|         null|                null|            null|                null|                                                                  null|                                                                    null|\n",
            "|       1222|                                null|                               null|                                                                                       null|                                                                                     null|                                                                          null|                                                                                    null|                                                                                 null|                                                                               null|                null|                null|                      null|                                             null|                null|                null|                                   null|                           null|                             null|              null|                3987|      null|             null|                       null|                           null|      null|                null|                 null|                                       null|                         null|         null|         null|          null|        null|               0.033|                0.09|                  -15.56|                 43.05|                          null|        null|                null|                                      null|                                      null|                null|                               null|                 null|                null|                null|                  null|                null|                null|                null|         null|          null|                         null|                           null|                                           null|                         null|         null|         null|         null|                                   null|                                     null|                        null|                          null|                                     null|                                       null|                 null|                   null|                   null|                         null|                           null|         null|                null|            null|                null|                                                                  null|                                                                    null|\n",
            "|       1223|                                null|                               null|                                                                                       null|                                                                                     null|                                                                          null|                                                                                    null|                                                                                 null|                                                                               null|                null|                null|                      null|                                             null|                null|                null|                                   null|                           null|                             null|              null|                3995|      null|             null|                       null|                           null|      null|                null|                 null|                                       null|                         null|         null|         null|          null|        null|               0.035|                0.08|                  -15.56|                 54.95|                          null|        null|                null|                                      null|                                      null|                null|                               null|                 null|                null|                null|                  null|                null|                null|                null|         null|          null|                         null|                           null|                                           null|                         null|         null|         null|         null|                                   null|                                     null|                        null|                          null|                                     null|                                       null|                 null|                   null|                   null|                         null|                           null|         null|                null|            null|                null|                                                                  null|                                                                    null|\n",
            "|       1224|                                null|                               null|                                                                                       null|                                                                                     null|                                                                          null|                                                                                    null|                                                                                 null|                                                                               null|                null|                null|                      null|                                             null|                null|                null|                                   null|                           null|                             null|              null|                4004|      null|             null|                       null|                           null|      null|                null|                 null|                                       null|                         null|         null|         null|          null|        null|               0.036|                0.09|                   10.33|                 50.33|                          null|        null|                null|                                      null|                                      null|                null|                               null|                 null|                null|                null|                  null|                null|                null|                null|         null|          null|                         null|                           null|                                           null|                         null|         null|         null|         null|                                   null|                                     null|                        null|                          null|                                     null|                                       null|                 null|                   null|                   null|                         null|                           null|         null|                null|            null|                null|                                                                  null|                                                                    null|\n",
            "|       1225|                                null|                               null|                                                                                       null|                                                                                     null|                                                                          null|                                                                                    null|                                                                                 null|                                                                               null|                null|                null|                      null|                                             null|                null|                null|                                   null|                           null|                             null|              null|                4012|      null|             null|                       null|                           null|      null|                null|                 null|                                       null|                         null|         null|         null|          null|        null|               0.032|                0.13|                   49.66|                 30.29|                          null|        null|                null|                                      null|                                      null|                null|                               null|                 null|                null|                null|                  null|                null|                null|                null|         null|          null|                         null|                           null|                                           null|                         null|         null|         null|         null|                                   null|                                     null|                        null|                          null|                                     null|                                       null|                 null|                   null|                   null|                         null|                           null|         null|                null|            null|                null|                                                                  null|                                                                    null|\n",
            "|       1226|                                null|                               null|                                                                                       null|                                                                                     null|                                                                          null|                                                                                    null|                                                                                 null|                                                                               null|                null|                null|                      null|                                             null|                null|                null|                                   null|                           null|                             null|              null|                4021|      null|             null|                       null|                           null|      null|                null|                 null|                                       null|                         null|         null|         null|          null|        null|               0.032|                0.12|                   -9.56|                 33.48|                          null|        null|                null|                                      null|                                      null|                null|                               null|                 null|                null|                null|                  null|                null|                null|                null|         null|          null|                         null|                           null|                                           null|                         null|         null|         null|         null|                                   null|                                     null|                        null|                          null|                                     null|                                       null|                 null|                   null|                   null|                         null|                           null|         null|                null|            null|                null|                                                                  null|                                                                    null|\n",
            "|       1227|                                null|                               null|                                                                                       null|                                                                                     null|                                                                          null|                                                                                    null|                                                                                 null|                                                                               null|                null|                null|                      null|                                             null|                null|                null|                                   null|                           null|                             null|              null|                4029|      null|             null|                       null|                           null|      null|                null|                 null|                                       null|                         null|         null|         null|          null|        null|               0.029|                0.12|                    0.01|                 29.86|                          null|        null|                null|                                      null|                                      null|                null|                               null|                 null|                null|                null|                  null|                null|                null|                null|         null|          null|                         null|                           null|                                           null|                         null|         null|         null|         null|                                   null|                                     null|                        null|                          null|                                     null|                                       null|                 null|                   null|                   null|                         null|                           null|         null|                null|            null|                null|                                                                  null|                                                                    null|\n",
            "+-----------+------------------------------------+-----------------------------------+-------------------------------------------------------------------------------------------+-----------------------------------------------------------------------------------------+------------------------------------------------------------------------------+----------------------------------------------------------------------------------------+-------------------------------------------------------------------------------------+-----------------------------------------------------------------------------------+--------------------+--------------------+--------------------------+-------------------------------------------------+--------------------+--------------------+---------------------------------------+-------------------------------+---------------------------------+------------------+--------------------+----------+-----------------+---------------------------+-------------------------------+----------+--------------------+---------------------+-------------------------------------------+-----------------------------+-------------+-------------+--------------+------------+--------------------+--------------------+------------------------+----------------------+------------------------------+------------+--------------------+------------------------------------------+------------------------------------------+--------------------+-----------------------------------+---------------------+--------------------+--------------------+----------------------+--------------------+--------------------+--------------------+-------------+--------------+-----------------------------+-------------------------------+-----------------------------------------------+-----------------------------+-------------+-------------+-------------+---------------------------------------+-----------------------------------------+----------------------------+------------------------------+-----------------------------------------+-------------------------------------------+---------------------+-----------------------+-----------------------+-----------------------------+-------------------------------+-------------+--------------------+----------------+--------------------+----------------------------------------------------------------------+------------------------------------------------------------------------+\n",
            "only showing top 20 rows\n",
            "\n"
          ]
        }
      ]
    },
    {
      "cell_type": "code",
      "source": [
        "data.printSchema()"
      ],
      "metadata": {
        "colab": {
          "base_uri": "https://localhost:8080/"
        },
        "id": "BFEn77ZJav7G",
        "outputId": "e509d894-3dc5-42ee-f44f-0c2db23ed2e0"
      },
      "execution_count": null,
      "outputs": [
        {
          "output_type": "stream",
          "name": "stdout",
          "text": [
            "root\n",
            " |-- Description: string (nullable = true)\n",
            " |-- Real GDP of England at market prices: string (nullable = true)\n",
            " |-- Real GDP of England at factor cost : string (nullable = true)\n",
            " |-- Real UK GDP at market prices, geographically-consistent estimate based on post-1922 borders: string (nullable = true)\n",
            " |-- Real UK GDP at factor cost, geographically-consistent estimate based on post-1922 borders: string (nullable = true)\n",
            " |-- Index of real UK GDP at factor cost - based on changing political boundaries, : string (nullable = true)\n",
            " |-- Composite estimate of English and (geographically-consistent) UK real GDP at factor cost: string (nullable = true)\n",
            " |-- HP-filter of log of real composite estimate of English and UK real GDP at factor cost: string (nullable = true)\n",
            " |-- Real UK gross disposable national income at market prices, constant border estimate: string (nullable = true)\n",
            " |-- Real consumption: string (nullable = true)\n",
            " |-- Real investment: string (nullable = true)\n",
            " |-- Stockbuilding contribution: string (nullable = true)\n",
            " |-- Real government consumption of goods and services: string (nullable = true)\n",
            " |-- Export volumes: string (nullable = true)\n",
            " |-- Import volumes: string (nullable = true)\n",
            " |-- Nominal GDP of England at market prices: string (nullable = true)\n",
            " |-- Nominal UK GDP at market prices: string (nullable = true)\n",
            " |-- Nominal UK GDP at market prices.1: string (nullable = true)\n",
            " |-- Population (GB+NI): string (nullable = true)\n",
            " |-- Population (England): string (nullable = true)\n",
            " |-- Employment: string (nullable = true)\n",
            " |-- Unemployment rate: string (nullable = true)\n",
            " |-- Average weekly hours worked: string (nullable = true)\n",
            " |-- Capital Services, whole economy: string (nullable = true)\n",
            " |-- TFP growth: string (nullable = true)\n",
            " |-- Labour productivity: string (nullable = true)\n",
            " |-- Labour productivity.1: string (nullable = true)\n",
            " |-- Labour share, whole economy excluding rents: string (nullable = true)\n",
            " |-- GDP deflator at market prices: string (nullable = true)\n",
            " |-- Export prices: string (nullable = true)\n",
            " |-- Import prices: string (nullable = true)\n",
            " |-- Terms of Trade: string (nullable = true)\n",
            " |-- $ Oil prices: string (nullable = true)\n",
            " |-- Earnings per head: string (nullable = true)\n",
            " |-- Consumer price index: string (nullable = true)\n",
            " |-- Consumer price inflation: string (nullable = true)\n",
            " |-- Real consumption wages: string (nullable = true)\n",
            " |-- Wholesale/producer price index: string (nullable = true)\n",
            " |-- Bank Rate: string (nullable = true)\n",
            " |-- Bank Rate.1: string (nullable = true)\n",
            " |-- 10 year/medium-term government bond yields: string (nullable = true)\n",
            " |-- Consols / long-term government bond yields: string (nullable = true)\n",
            " |-- Mortgage rates: string (nullable = true)\n",
            " |-- Corporate borrowing rate from banks: string (nullable = true)\n",
            " |-- Corporate bond yields: string (nullable = true)\n",
            " |-- Share prices: string (nullable = true)\n",
            " |-- $/£ exchange rate: string (nullable = true)\n",
            " |-- Real $/£ exchange rate: string (nullable = true)\n",
            " |-- Nominal ERI: string (nullable = true)\n",
            " |-- Real ERI: string (nullable = true)\n",
            " |-- House price index: string (nullable = true)\n",
            " |-- Credit : string (nullable = true)\n",
            " |-- Secured credit: string (nullable = true)\n",
            " |-- Bank of England Balance sheet: string (nullable = true)\n",
            " |-- Bank of England Balance sheet.1: string (nullable = true)\n",
            " |-- Coin in circulation outside the Bank of England: string (nullable = true)\n",
            " |-- Notes and coin in circulation: string (nullable = true)\n",
            " |-- Monetary base: string (nullable = true)\n",
            " |-- M1: string (nullable = true)\n",
            " |-- Broad Money : string (nullable = true)\n",
            " |-- Public sector Total Managed Expenditure: string (nullable = true)\n",
            " |-- Public sector Total Managed Expenditure.1: string (nullable = true)\n",
            " |-- Public Sector Total Receipts: string (nullable = true)\n",
            " |-- Public Sector Total Receipts.1: string (nullable = true)\n",
            " |-- Public Sector Net Lending(+)/Borrowing(-): string (nullable = true)\n",
            " |-- Public Sector Net Lending(+)/Borrowing(-).1: string (nullable = true)\n",
            " |-- UK Public sector debt: string (nullable = true)\n",
            " |-- UK Public sector debt.1: string (nullable = true)\n",
            " |-- UK Public sector debt.2: string (nullable = true)\n",
            " |-- Central Government Gross Debt: string (nullable = true)\n",
            " |-- Central Government Gross Debt.1: string (nullable = true)\n",
            " |-- Trade deficit: string (nullable = true)\n",
            " |-- Trade deficit.1: string (nullable = true)\n",
            " |-- Current account : string (nullable = true)\n",
            " |-- Current account .1: string (nullable = true)\n",
            " |-- Current account deficit including estimated non-monetary bullion flows: string (nullable = true)\n",
            " |-- Current account deficit including estimated non-monetary bullion flows.1: string (nullable = true)\n",
            "\n"
          ]
        }
      ]
    },
    {
      "cell_type": "markdown",
      "source": [
        "**2.2. Wrangling**"
      ],
      "metadata": {
        "id": "b-I1dUa0iyE1"
      }
    },
    {
      "cell_type": "markdown",
      "source": [
        "Processe os dados para que a base de dados final apresente os valores da taxa de desemprego (`Unemployment rate`) e população (`Population (GB+NI)`) estejam ordenados por ano decrescente:"
      ],
      "metadata": {
        "id": "RONWLjqgkr5B"
      }
    },
    {
      "cell_type": "markdown",
      "source": [
        "```csv\n",
        "year,population,unemployment_rate\n",
        "...,...,...\n",
        "```"
      ],
      "metadata": {
        "id": "mr-NTxnalqIm"
      }
    },
    {
      "cell_type": "markdown",
      "source": [
        "Para isso, utilize:"
      ],
      "metadata": {
        "id": "snONpcdtlpQu"
      }
    },
    {
      "cell_type": "markdown",
      "source": [
        "##Pandas"
      ],
      "metadata": {
        "id": "nHY3jlCrkuN8"
      }
    },
    {
      "cell_type": "code",
      "source": [
        "import pandas as pd\n",
        "\n",
        "#leitura dos dados:\n",
        "df_original = pd.read_csv('./uk-macroeconomic-data.csv')\n",
        "df_original.columns\n",
        "\n",
        "#Transmitindo colunas desejadas para um df_auxiliar e renomenando elas:\n",
        "df_selecionado = df_original[['Description', 'Population (GB+NI)', 'Unemployment rate']]\n",
        "df_selecionado = df_selecionado.rename(columns={'Description':'year', 'Population (GB+NI)': 'population', 'Unemployment rate':'unemployment rate'})\n",
        "\n",
        "#retirando nulos:\n",
        "df_selecionado = df_selecionado.dropna(how='any',axis=0)\n",
        "\n",
        "#removendo primeira linha:\n",
        "df_final = df_selecionado.drop(0, axis=0)\n",
        "\n",
        "#salvando o df em csv:\n",
        "df_final.to_csv('uk-macroeconomic-data - pandas.csv', index=False)"
      ],
      "metadata": {
        "id": "2BUN93hGkyMZ"
      },
      "execution_count": null,
      "outputs": []
    },
    {
      "cell_type": "markdown",
      "source": [
        "##PySpark"
      ],
      "metadata": {
        "id": "yswaBr3JkxHq"
      }
    },
    {
      "cell_type": "markdown",
      "source": [
        "- Exploração"
      ],
      "metadata": {
        "id": "Cu915q2fc_eT"
      }
    },
    {
      "cell_type": "code",
      "source": [
        "data.count()"
      ],
      "metadata": {
        "id": "GmQoR-hfk1Mv",
        "colab": {
          "base_uri": "https://localhost:8080/"
        },
        "outputId": "fdb32747-fee9-40ee-d6c0-4f5ab6991b8c"
      },
      "execution_count": null,
      "outputs": [
        {
          "output_type": "execute_result",
          "data": {
            "text/plain": [
              "841"
            ]
          },
          "metadata": {},
          "execution_count": 13
        }
      ]
    },
    {
      "cell_type": "code",
      "source": [
        "data.columns"
      ],
      "metadata": {
        "colab": {
          "base_uri": "https://localhost:8080/"
        },
        "id": "1BEjfPzbctXI",
        "outputId": "4acc2800-b3a2-4891-b0f4-5e4c1e5dca4d"
      },
      "execution_count": null,
      "outputs": [
        {
          "output_type": "execute_result",
          "data": {
            "text/plain": [
              "['Description',\n",
              " 'Real GDP of England at market prices',\n",
              " 'Real GDP of England at factor cost ',\n",
              " 'Real UK GDP at market prices, geographically-consistent estimate based on post-1922 borders',\n",
              " 'Real UK GDP at factor cost, geographically-consistent estimate based on post-1922 borders',\n",
              " 'Index of real UK GDP at factor cost - based on changing political boundaries, ',\n",
              " 'Composite estimate of English and (geographically-consistent) UK real GDP at factor cost',\n",
              " 'HP-filter of log of real composite estimate of English and UK real GDP at factor cost',\n",
              " 'Real UK gross disposable national income at market prices, constant border estimate',\n",
              " 'Real consumption',\n",
              " 'Real investment',\n",
              " 'Stockbuilding contribution',\n",
              " 'Real government consumption of goods and services',\n",
              " 'Export volumes',\n",
              " 'Import volumes',\n",
              " 'Nominal GDP of England at market prices',\n",
              " 'Nominal UK GDP at market prices',\n",
              " 'Nominal UK GDP at market prices.1',\n",
              " 'Population (GB+NI)',\n",
              " 'Population (England)',\n",
              " 'Employment',\n",
              " 'Unemployment rate',\n",
              " 'Average weekly hours worked',\n",
              " 'Capital Services, whole economy',\n",
              " 'TFP growth',\n",
              " 'Labour productivity',\n",
              " 'Labour productivity.1',\n",
              " 'Labour share, whole economy excluding rents',\n",
              " 'GDP deflator at market prices',\n",
              " 'Export prices',\n",
              " 'Import prices',\n",
              " 'Terms of Trade',\n",
              " '$ Oil prices',\n",
              " 'Earnings per head',\n",
              " 'Consumer price index',\n",
              " 'Consumer price inflation',\n",
              " 'Real consumption wages',\n",
              " 'Wholesale/producer price index',\n",
              " 'Bank Rate',\n",
              " 'Bank Rate.1',\n",
              " '10 year/medium-term government bond yields',\n",
              " 'Consols / long-term government bond yields',\n",
              " 'Mortgage rates',\n",
              " 'Corporate borrowing rate from banks',\n",
              " 'Corporate bond yields',\n",
              " 'Share prices',\n",
              " '$/£ exchange rate',\n",
              " 'Real $/£ exchange rate',\n",
              " 'Nominal ERI',\n",
              " 'Real ERI',\n",
              " 'House price index',\n",
              " 'Credit ',\n",
              " 'Secured credit',\n",
              " 'Bank of England Balance sheet',\n",
              " 'Bank of England Balance sheet.1',\n",
              " 'Coin in circulation outside the Bank of England',\n",
              " 'Notes and coin in circulation',\n",
              " 'Monetary base',\n",
              " 'M1',\n",
              " 'Broad Money ',\n",
              " 'Public sector Total Managed Expenditure',\n",
              " 'Public sector Total Managed Expenditure.1',\n",
              " 'Public Sector Total Receipts',\n",
              " 'Public Sector Total Receipts.1',\n",
              " 'Public Sector Net Lending(+)/Borrowing(-)',\n",
              " 'Public Sector Net Lending(+)/Borrowing(-).1',\n",
              " 'UK Public sector debt',\n",
              " 'UK Public sector debt.1',\n",
              " 'UK Public sector debt.2',\n",
              " 'Central Government Gross Debt',\n",
              " 'Central Government Gross Debt.1',\n",
              " 'Trade deficit',\n",
              " 'Trade deficit.1',\n",
              " 'Current account ',\n",
              " 'Current account .1',\n",
              " 'Current account deficit including estimated non-monetary bullion flows',\n",
              " 'Current account deficit including estimated non-monetary bullion flows.1']"
            ]
          },
          "metadata": {},
          "execution_count": 14
        }
      ]
    },
    {
      "cell_type": "code",
      "source": [
        "len(data.columns)"
      ],
      "metadata": {
        "colab": {
          "base_uri": "https://localhost:8080/"
        },
        "id": "54whZyhBc5hT",
        "outputId": "4e6df679-d9b9-4324-dfea-5101664afe5d"
      },
      "execution_count": null,
      "outputs": [
        {
          "output_type": "execute_result",
          "data": {
            "text/plain": [
              "77"
            ]
          },
          "metadata": {},
          "execution_count": 15
        }
      ]
    },
    {
      "cell_type": "markdown",
      "source": [
        "- Limpeza"
      ],
      "metadata": {
        "id": "8dV99TTnc8mn"
      }
    },
    {
      "cell_type": "code",
      "source": [
        "data = data.select([\"Description\", \"Population (GB+NI)\", \"Unemployment rate\"])"
      ],
      "metadata": {
        "id": "WezY0OECc6O0"
      },
      "execution_count": null,
      "outputs": []
    },
    {
      "cell_type": "code",
      "source": [
        "data = data.\\\n",
        "  withColumnRenamed(\"Description\", 'year').\\\n",
        "  withColumnRenamed(\"Population (GB+NI)\", \"population\").\\\n",
        "  withColumnRenamed(\"Unemployment rate\", \"unemployment_rate\")"
      ],
      "metadata": {
        "id": "zrGF8pxEc6LZ"
      },
      "execution_count": null,
      "outputs": []
    },
    {
      "cell_type": "code",
      "source": [
        "data.show(n=10)"
      ],
      "metadata": {
        "colab": {
          "base_uri": "https://localhost:8080/"
        },
        "id": "sFuwVW8rc6FR",
        "outputId": "e34557b0-69f6-4f03-a835-c31a988d7d22"
      },
      "execution_count": null,
      "outputs": [
        {
          "output_type": "stream",
          "name": "stdout",
          "text": [
            "+-----+----------+-----------------+\n",
            "| year|population|unemployment_rate|\n",
            "+-----+----------+-----------------+\n",
            "|Units|      000s|                %|\n",
            "| 1209|      null|             null|\n",
            "| 1210|      null|             null|\n",
            "| 1211|      null|             null|\n",
            "| 1212|      null|             null|\n",
            "| 1213|      null|             null|\n",
            "| 1214|      null|             null|\n",
            "| 1215|      null|             null|\n",
            "| 1216|      null|             null|\n",
            "| 1217|      null|             null|\n",
            "+-----+----------+-----------------+\n",
            "only showing top 10 rows\n",
            "\n"
          ]
        }
      ]
    },
    {
      "cell_type": "code",
      "source": [
        "data_description = data.filter(data['year'] == 'Units')"
      ],
      "metadata": {
        "id": "LCq1O02sc6CC"
      },
      "execution_count": null,
      "outputs": []
    },
    {
      "cell_type": "code",
      "source": [
        "data_description.show(n=10)"
      ],
      "metadata": {
        "colab": {
          "base_uri": "https://localhost:8080/"
        },
        "id": "olirvtt9c5-t",
        "outputId": "2c5ed0fc-1745-45dc-fe7b-08245a28778f"
      },
      "execution_count": null,
      "outputs": [
        {
          "output_type": "stream",
          "name": "stdout",
          "text": [
            "+-----+----------+-----------------+\n",
            "| year|population|unemployment_rate|\n",
            "+-----+----------+-----------------+\n",
            "|Units|      000s|                %|\n",
            "+-----+----------+-----------------+\n",
            "\n"
          ]
        }
      ]
    },
    {
      "cell_type": "markdown",
      "source": [
        "- Junção"
      ],
      "metadata": {
        "id": "A78dNIaPdLQi"
      }
    },
    {
      "cell_type": "code",
      "source": [
        "(data.count(), len(data.columns))"
      ],
      "metadata": {
        "colab": {
          "base_uri": "https://localhost:8080/"
        },
        "id": "lZtdI_iQdPk0",
        "outputId": "5d5d1773-6b80-4412-9904-2c3ffc750c1e"
      },
      "execution_count": null,
      "outputs": [
        {
          "output_type": "execute_result",
          "data": {
            "text/plain": [
              "(841, 3)"
            ]
          },
          "metadata": {},
          "execution_count": 21
        }
      ]
    },
    {
      "cell_type": "code",
      "source": [
        "(data_description.count(), len(data_description.columns))"
      ],
      "metadata": {
        "colab": {
          "base_uri": "https://localhost:8080/"
        },
        "id": "l0jmdE2DdQCZ",
        "outputId": "a8bd6a5a-f83f-4241-a1cc-f3937cf64581"
      },
      "execution_count": null,
      "outputs": [
        {
          "output_type": "execute_result",
          "data": {
            "text/plain": [
              "(1, 3)"
            ]
          },
          "metadata": {},
          "execution_count": 22
        }
      ]
    },
    {
      "cell_type": "code",
      "source": [
        "from pyspark.sql.functions import broadcast"
      ],
      "metadata": {
        "id": "qJnyXRqldP_A"
      },
      "execution_count": null,
      "outputs": []
    },
    {
      "cell_type": "code",
      "source": [
        "data = data.join(other=broadcast(data_description), on=['year'], how='left_anti')"
      ],
      "metadata": {
        "id": "ZWkiBCRkdP7l"
      },
      "execution_count": null,
      "outputs": []
    },
    {
      "cell_type": "code",
      "source": [
        "data.show(n=10)"
      ],
      "metadata": {
        "colab": {
          "base_uri": "https://localhost:8080/"
        },
        "id": "dqwQ5gLWdP4r",
        "outputId": "400615e6-5a6e-4af6-bb55-a994f096aedd"
      },
      "execution_count": null,
      "outputs": [
        {
          "output_type": "stream",
          "name": "stdout",
          "text": [
            "+----+----------+-----------------+\n",
            "|year|population|unemployment_rate|\n",
            "+----+----------+-----------------+\n",
            "|1209|      null|             null|\n",
            "|1210|      null|             null|\n",
            "|1211|      null|             null|\n",
            "|1212|      null|             null|\n",
            "|1213|      null|             null|\n",
            "|1214|      null|             null|\n",
            "|1215|      null|             null|\n",
            "|1216|      null|             null|\n",
            "|1217|      null|             null|\n",
            "|1218|      null|             null|\n",
            "+----+----------+-----------------+\n",
            "only showing top 10 rows\n",
            "\n"
          ]
        }
      ]
    },
    {
      "cell_type": "code",
      "source": [
        "data = data.dropna()"
      ],
      "metadata": {
        "id": "PS_LqCBHdYa_"
      },
      "execution_count": null,
      "outputs": []
    },
    {
      "cell_type": "code",
      "source": [
        "data.show(n=10)"
      ],
      "metadata": {
        "colab": {
          "base_uri": "https://localhost:8080/"
        },
        "id": "9tf4o0WEdYYA",
        "outputId": "5fe15f94-3abe-424f-d3ab-3b43efcd1b0b"
      },
      "execution_count": null,
      "outputs": [
        {
          "output_type": "stream",
          "name": "stdout",
          "text": [
            "+----+----------+-----------------+\n",
            "|year|population|unemployment_rate|\n",
            "+----+----------+-----------------+\n",
            "|1855|     23241|             3.73|\n",
            "|1856|     23466|             3.52|\n",
            "|1857|     23689|             3.95|\n",
            "|1858|     23914|             5.23|\n",
            "|1859|     24138|             3.27|\n",
            "|1860|     24360|             2.94|\n",
            "|1861|     24585|             3.72|\n",
            "|1862|     24862|             4.68|\n",
            "|1863|     25142|             4.15|\n",
            "|1864|     25425|             2.99|\n",
            "+----+----------+-----------------+\n",
            "only showing top 10 rows\n",
            "\n"
          ]
        }
      ]
    },
    {
      "cell_type": "code",
      "source": [
        "data = data.withColumn('century', 1 + (data['year']/100).cast('int'))"
      ],
      "metadata": {
        "id": "IpnKIrpYdYVI"
      },
      "execution_count": null,
      "outputs": []
    },
    {
      "cell_type": "code",
      "source": [
        "data.select(['century', 'year']).groupBy('century').agg({'year': 'count'}).show()"
      ],
      "metadata": {
        "colab": {
          "base_uri": "https://localhost:8080/"
        },
        "id": "j7cfJ1irdYSL",
        "outputId": "21034504-0f48-4443-a3dd-fa452dde4078"
      },
      "execution_count": null,
      "outputs": [
        {
          "output_type": "stream",
          "name": "stdout",
          "text": [
            "+-------+-----------+\n",
            "|century|count(year)|\n",
            "+-------+-----------+\n",
            "|     20|        100|\n",
            "|     19|         45|\n",
            "|     21|         17|\n",
            "+-------+-----------+\n",
            "\n"
          ]
        }
      ]
    },
    {
      "cell_type": "code",
      "source": [
        "timing = data.select(['century', 'year']).groupBy('century').agg({'year': 'count'}).collect()"
      ],
      "metadata": {
        "id": "AX8tdUmcdYPP"
      },
      "execution_count": null,
      "outputs": []
    },
    {
      "cell_type": "code",
      "source": [
        "timing"
      ],
      "metadata": {
        "colab": {
          "base_uri": "https://localhost:8080/"
        },
        "id": "59BUU1PkdYLW",
        "outputId": "d7ea6f41-1c37-4295-f604-64c0ee1fc7df"
      },
      "execution_count": null,
      "outputs": [
        {
          "output_type": "execute_result",
          "data": {
            "text/plain": [
              "[Row(century=20, count(year)=100),\n",
              " Row(century=19, count(year)=45),\n",
              " Row(century=21, count(year)=17)]"
            ]
          },
          "metadata": {},
          "execution_count": 31
        }
      ]
    },
    {
      "cell_type": "code",
      "source": [
        "timing[0].asDict()"
      ],
      "metadata": {
        "colab": {
          "base_uri": "https://localhost:8080/"
        },
        "id": "H6hPNxzidYHz",
        "outputId": "59c91c31-3739-405d-a976-d78c98ba6942"
      },
      "execution_count": null,
      "outputs": [
        {
          "output_type": "execute_result",
          "data": {
            "text/plain": [
              "{'century': 20, 'count(year)': 100}"
            ]
          },
          "metadata": {},
          "execution_count": 32
        }
      ]
    },
    {
      "cell_type": "markdown",
      "source": [
        "- Escrita"
      ],
      "metadata": {
        "id": "H7_zJLRIdjMf"
      }
    },
    {
      "cell_type": "code",
      "source": [
        "data.repartition('century').write.csv(path=\"uk-macroeconomic-data-clean\", sep=\",\", header=True, mode=\"overwrite\")"
      ],
      "metadata": {
        "id": "mc8lSIaEdP0z"
      },
      "execution_count": null,
      "outputs": []
    }
  ]
}