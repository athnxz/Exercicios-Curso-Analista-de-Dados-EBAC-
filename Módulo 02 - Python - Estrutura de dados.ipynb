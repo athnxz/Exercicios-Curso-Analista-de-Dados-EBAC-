{
  "nbformat": 4,
  "nbformat_minor": 0,
  "metadata": {
    "colab": {
      "provenance": [],
      "toc_visible": true
    },
    "kernelspec": {
      "name": "python3",
      "display_name": "Python 3"
    }
  },
  "cells": [
    {
      "cell_type": "markdown",
      "metadata": {
        "id": "KJqp9AANOCtf"
      },
      "source": [
        "<img src=\"https://raw.githubusercontent.com/andre-marcos-perez/ebac-course-utils/main/media/logo/newebac_logo_black_half.png\" alt=\"ebac-logo\">\n",
        "\n",
        "---\n",
        "\n",
        "# **Módulo** | Python: Estruturas de Dados\n",
        "Caderno de **Exercícios**<br> \n",
        "Professor [André Perez](https://www.linkedin.com/in/andremarcosperez/)\n",
        "\n",
        "---"
      ]
    },
    {
      "cell_type": "markdown",
      "metadata": {
        "id": "d9jDtUbDOE1-"
      },
      "source": [
        "# **Tópicos**\n",
        "\n",
        "<ol type=\"1\">\n",
        "  <li>Listas;</li>\n",
        "  <li>Conjuntos;</li>\n",
        "  <li>Dicionários.</li>\n",
        "</ol>"
      ]
    },
    {
      "cell_type": "markdown",
      "metadata": {
        "id": "SmoHgt-lwkpD"
      },
      "source": [
        "---"
      ]
    },
    {
      "cell_type": "markdown",
      "metadata": {
        "id": "GABI6OW8OfQ2"
      },
      "source": [
        "# **Exercícios**"
      ]
    },
    {
      "cell_type": "markdown",
      "metadata": {
        "id": "muD1vxozykSC"
      },
      "source": [
        "## 1\\. Listas"
      ]
    },
    {
      "cell_type": "markdown",
      "metadata": {
        "id": "ahrFfCuBxJKs"
      },
      "source": [
        "Criei uma lista chamada `filmes` com o nome dos 10 primeiros filmes mais bem avaliados no site no [IMDB](https://www.imdb.com/chart/top/). Imprima o resultado."
      ]
    },
    {
      "cell_type": "code",
      "metadata": {
        "id": "OgL6Hv3bzOHI",
        "colab": {
          "base_uri": "https://localhost:8080/"
        },
        "outputId": "154c8dff-7b85-429c-eeda-bc9e85f9c439"
      },
      "source": [
        "filmes = ['Top1: Um Sonho de Liberdade', 'Top2: O Poderoso Chefão', 'Top3: Batman: O Cavaleiro das Trevas', 'Top4: O Poderoso Chefão II', 'Top5: 12 Homens e uma Sentença', 'Top6: A lista de schindler', 'Top7: O Senhor dos Anéis: O Retorno do Rei', 'Top8: Pulp Fiction: Tempo de Violência', 'Top9: O Senhor dos Anéis: A Sociedade do Anel', 'Top10: Três Homens em Conflito' ]\n",
        "print(filmes)\n"
      ],
      "execution_count": 2,
      "outputs": [
        {
          "output_type": "stream",
          "name": "stdout",
          "text": [
            "['Top1: Um Sonho de Liberdade', 'Top2: O Poderoso Chefão', 'Top3: Batman: O Cavaleiro das Trevas', 'Top4: O Poderoso Chefão II', 'Top5: 12 Homens e uma Sentença', 'Top6: A lista de schindler', 'Top7: O Senhor dos Anéis: O Retorno do Rei', 'Top8: Pulp Fiction: Tempo de Violência', 'Top9: O Senhor dos Anéis: A Sociedade do Anel', 'Top10: Três Homens em Conflito']\n"
          ]
        }
      ]
    },
    {
      "cell_type": "markdown",
      "metadata": {
        "id": "KI9zQRT2xa7m"
      },
      "source": [
        "Simule a movimentação do *ranking*. Utilize os métodos `insert` e `pop` para trocar a posição do primeiro e do segundo filme da lista. Imprima o resultado.\n",
        "\n"
      ]
    },
    {
      "cell_type": "code",
      "metadata": {
        "id": "zX3mA3_GzrXH",
        "colab": {
          "base_uri": "https://localhost:8080/"
        },
        "outputId": "8d83be78-85b3-4261-f782-c3d475997bad"
      },
      "source": [
        "filmes.pop(0)\n",
        "filmes.insert(0,'Top1: O Poderoso Chefão')\n",
        "\n",
        "filmes.pop(1)\n",
        "filmes.insert(1,'Top2: Um Sonho de Liberdade')\n",
        "print(filmes)"
      ],
      "execution_count": 5,
      "outputs": [
        {
          "output_type": "stream",
          "name": "stdout",
          "text": [
            "['Top1: O Poderoso Chefão', 'Top2: Um Sonho de Liberdade', 'Top3: Batman: O Cavaleiro das Trevas', 'Top4: O Poderoso Chefão II', 'Top5: 12 Homens e uma Sentença', 'Top6: A lista de schindler', 'Top7: O Senhor dos Anéis: O Retorno do Rei', 'Top8: Pulp Fiction: Tempo de Violência', 'Top9: O Senhor dos Anéis: A Sociedade do Anel', 'Top10: Três Homens em Conflito']\n"
          ]
        }
      ]
    },
    {
      "cell_type": "markdown",
      "metadata": {
        "id": "zMN1Q3jdwoJm"
      },
      "source": [
        "---"
      ]
    },
    {
      "cell_type": "markdown",
      "metadata": {
        "id": "lxa5L6uF0ZJE"
      },
      "source": [
        "## 2\\. Conjuntos"
      ]
    },
    {
      "cell_type": "markdown",
      "metadata": {
        "id": "9JahS2Kj0d5u"
      },
      "source": [
        "Aconteceu um erro no seu *ranking*. Simule a duplicação dos três últimos filmes da lista. Imprima o resultado."
      ]
    },
    {
      "cell_type": "code",
      "metadata": {
        "id": "BnjnLBNC6PGe",
        "colab": {
          "base_uri": "https://localhost:8080/"
        },
        "outputId": "1d5bbdfa-e1e8-4674-bfcb-c3b1a5cdb6a7"
      },
      "source": [
        "filmes = ['Top1: Um Sonho de Liberdade', 'Top2: O Poderoso Chefão', 'Top3: Batman: O Cavaleiro das Trevas', 'Top4: O Poderoso Chefão II', 'Top5: 12 Homens e uma Sentença', 'Top6: A lista de schindler', 'Top7: O Senhor dos Anéis: O Retorno do Rei', 'Top8: Pulp Fiction: Tempo de Violência', 'Top9: O Senhor dos Anéis: A Sociedade do Anel', 'Top10: Três Homens em Conflito', 'Top8: Pulp Fiction: Tempo de Violência', 'Top9: O Senhor dos Anéis: A Sociedade do Anel', 'Top10: Três Homens em Conflito' ]\n",
        "print(filmes)"
      ],
      "execution_count": null,
      "outputs": [
        {
          "output_type": "stream",
          "name": "stdout",
          "text": [
            "['Top1: Um Sonho de Liberdade', 'Top2: O Poderoso Chefão', 'Top3: Batman: O Cavaleiro das Trevas', 'Top4: O Poderoso Chefão II', 'Top5: 12 Homens e uma Sentença', 'Top6: A lista de schindler', 'Top7: O Senhor dos Anéis: O Retorno do Rei', 'Top8: Pulp Fiction: Tempo de Violência', 'Top9: O Senhor dos Anéis: A Sociedade do Anel', 'Top10: Três Homens em Conflito', 'Top8: Pulp Fiction: Tempo de Violência', 'Top9: O Senhor dos Anéis: A Sociedade do Anel', 'Top10: Três Homens em Conflito']\n"
          ]
        }
      ]
    },
    {
      "cell_type": "markdown",
      "metadata": {
        "id": "suxTfCJB6ZiX"
      },
      "source": [
        "Utiliza a conversão `set` e `list` para remover os valores duplicados. Imprima o resultado. "
      ]
    },
    {
      "cell_type": "code",
      "metadata": {
        "id": "ZvUGN-0n6joM",
        "colab": {
          "base_uri": "https://localhost:8080/"
        },
        "outputId": "7eb7ed69-891d-42b1-8af5-b777f18a2887"
      },
      "source": [
        "#Removendo duplicação\n",
        "filmes_nao_duplicados = list(set(filmes))\n",
        "print(filmes_nao_duplicados)"
      ],
      "execution_count": 6,
      "outputs": [
        {
          "output_type": "stream",
          "name": "stdout",
          "text": [
            "['Top2: Um Sonho de Liberdade', 'Top9: O Senhor dos Anéis: A Sociedade do Anel', 'Top7: O Senhor dos Anéis: O Retorno do Rei', 'Top6: A lista de schindler', 'Top5: 12 Homens e uma Sentença', 'Top3: Batman: O Cavaleiro das Trevas', 'Top1: O Poderoso Chefão', 'Top10: Três Homens em Conflito', 'Top4: O Poderoso Chefão II', 'Top8: Pulp Fiction: Tempo de Violência']\n"
          ]
        }
      ]
    },
    {
      "cell_type": "markdown",
      "metadata": {
        "id": "ShkK35eQ6pAM"
      },
      "source": [
        "---"
      ]
    },
    {
      "cell_type": "markdown",
      "metadata": {
        "id": "EL_FzmxL6rTv"
      },
      "source": [
        "## 3\\. Dicionários"
      ]
    },
    {
      "cell_type": "markdown",
      "metadata": {
        "id": "i8l0gFqRCpfT"
      },
      "source": [
        "Repita os exercícios da parte 1 (listas). Os elementos da lista `filmes` devem ser dicionários no seguinte formato: `{'nome': <nome-do-filme>, 'ano': <ano do filme>}, 'sinopse': <sinopse do filme>}`. "
      ]
    },
    {
      "cell_type": "code",
      "metadata": {
        "id": "tu6MSFwGDnHv",
        "colab": {
          "base_uri": "https://localhost:8080/"
        },
        "outputId": "dc577696-a0d6-417c-e6bf-df9b83435604"
      },
      "source": [
        "Top1 = {'Nome': 'Um Sonho de Liberdade', 'Ano': 1994, 'Sinopse': 'Dois homens presos se reúnem ao longo de vários anos, encontrando consolo e eventual redenção através de atos de decência comum.'}\n",
        "print(Top1)\n",
        "\n",
        "Top2 = {'Nome': 'O Poderoso Chefão', 'Ano': 1972, 'Sinopse': 'O patriarca idoso de uma dinastia do crime organizado transfere o controle de seu império clandestino para seu filho relutante.'}\n",
        "print(Top2)\n",
        "\n",
        "Top3 = {'Nome': 'Batman: O Cavaleiro das Trevas', 'Ano': 2008, 'Sinopse': 'Quando a ameaça conhecida como O Coringa surge de seu passado, causa estragos e caos nas pessoas de Gotham. O Cavaleiro das Trevas deve aceitar um dos maiores testes para combater a injustiça.'}\n",
        "print(Top3)\n",
        "\n",
        "Top4 = {'Nome': 'O Poderoso Chefão II', 'Ano': 1974, 'Sinopse': 'Em 1950, Michael Corleone, agora à frente da família, tenta expandir o negócio do crime a Las Vegas, Los Angeles e Cuba. Paralelamente, é revelada a história de Vito Corleone, e de como saiu da Sicília e chegou a Nova Iorque.'}\n",
        "print(Top4)\n",
        "\n",
        "Top5 = {'Nome': '12 Homens e uma Sentença', 'Ano': 1957, 'Sinopse': 'Um jurado que se aposenta tenta evitar um erro judicial forçando seus colegas a reconsiderarem as evidências.'}\n",
        "print(Top5)\n",
        "\n",
        "Top6 = {'Nome': 'A Lista de Schindler', 'Ano': 1993, 'Sinopse': 'Depois de testemunhar a perseguição dos judaicos na Polônia ocupada pelos alemães durante a Segunda Guerra Mundial, o industrial Oskar Schindler se começa a preocupar com sua força de trabalho judaica.'}\n",
        "print(Top6)\n",
        "\n",
        "Top7 = {'Nome': 'O Senhor dos Anéis: O Retorno do Rei', 'Ano': 2003, 'Sinopse': 'Gandalf e Aragorn lideram o Mundo dos Homens contra o exército de Sauron para desviar o olhar de Frodo e Sam quando eles se aproximam á Montanha da Perdição com o Um Anel.'}\n",
        "print(Top7)\n",
        "\n",
        "Top8 = {'Nome': 'Pulp Fiction: Tempo de Violência', 'Ano': 1994, 'Sinopse': 'As vidas de dois assassinos da máfia, um boxeador, um gângster e sua esposa, e um par de bandidos se entrelaçam em quatro histórias de violência e redenção.'}\n",
        "print(Top8)\n",
        "\n",
        "Top9 = {'Nome': 'O Senhor dos Anéis: A Sociedade do Anel', 'Ano': 2001, 'Sinopse': 'Um manso hobbit do Condado e oito companheiros partem em uma jornada para destruir o poderoso Um Anel e salvar a Terra-média das Trevas.'}\n",
        "print(Top9)\n",
        "\n",
        "Top10 = {'Nome': 'Três Homens em Conflito', 'Ano': 1966, 'Sinopse': 'Um impostor se junta com dois homens para encontrar fortuna num remoto cemitério.'}\n",
        "print(Top10)\n",
        "\n",
        "#Utilizando um exemplo para confirmar o tipo dicionário:\n",
        "print(type(Top10))\n",
        "\n"
      ],
      "execution_count": null,
      "outputs": [
        {
          "output_type": "stream",
          "name": "stdout",
          "text": [
            "{'Nome': 'Um Sonho de Liberdade', 'Ano': 1994, 'Sinopse': 'Dois homens presos se reúnem ao longo de vários anos, encontrando consolo e eventual redenção através de atos de decência comum.'}\n",
            "{'Nome': 'O Poderoso Chefão', 'Ano': 1972, 'Sinopse': 'O patriarca idoso de uma dinastia do crime organizado transfere o controle de seu império clandestino para seu filho relutante.'}\n",
            "{'Nome': 'Batman: O Cavaleiro das Trevas', 'Ano': 2008, 'Sinopse': 'Quando a ameaça conhecida como O Coringa surge de seu passado, causa estragos e caos nas pessoas de Gotham. O Cavaleiro das Trevas deve aceitar um dos maiores testes para combater a injustiça.'}\n",
            "{'Nome': 'O Poderoso Chefão II', 'Ano': 1974, 'Sinopse': 'Em 1950, Michael Corleone, agora à frente da família, tenta expandir o negócio do crime a Las Vegas, Los Angeles e Cuba. Paralelamente, é revelada a história de Vito Corleone, e de como saiu da Sicília e chegou a Nova Iorque.'}\n",
            "{'Nome': '12 Homens e uma Sentença', 'Ano': 1957, 'Sinopse': 'Um jurado que se aposenta tenta evitar um erro judicial forçando seus colegas a reconsiderarem as evidências.'}\n",
            "{'Nome': 'A Lista de Schindler', 'Ano': 1993, 'Sinopse': 'Depois de testemunhar a perseguição dos judaicos na Polônia ocupada pelos alemães durante a Segunda Guerra Mundial, o industrial Oskar Schindler se começa a preocupar com sua força de trabalho judaica.'}\n",
            "{'Nome': 'O Senhor dos Anéis: O Retorno do Rei', 'Ano': 2003, 'Sinopse': 'Gandalf e Aragorn lideram o Mundo dos Homens contra o exército de Sauron para desviar o olhar de Frodo e Sam quando eles se aproximam á Montanha da Perdição com o Um Anel.'}\n",
            "{'Nome': 'Pulp Fiction: Tempo de Violência', 'Ano': 1994, 'Sinopse': 'As vidas de dois assassinos da máfia, um boxeador, um gângster e sua esposa, e um par de bandidos se entrelaçam em quatro histórias de violência e redenção.'}\n",
            "{'Nome': 'O Senhor dos Anéis: A Sociedade do Anel', 'Ano': 2001, 'Sinopse': 'Um manso hobbit do Condado e oito companheiros partem em uma jornada para destruir o poderoso Um Anel e salvar a Terra-média das Trevas.'}\n",
            "{'Nome': 'Três Homens em Conflito', 'Ano': 1966, 'Sinopse': 'Um impostor se junta com dois homens para encontrar fortuna num remoto cemitério.'}\n",
            "<class 'dict'>\n"
          ]
        }
      ]
    }
  ]
}